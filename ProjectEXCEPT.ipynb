{
 "cells": [
  {
   "cell_type": "code",
   "execution_count": 1,
   "id": "5cd10a7b-9cfb-47fb-afb3-9fa287744a4b",
   "metadata": {},
   "outputs": [],
   "source": [
    "dataList = {}\n",
    "class NIMTidakValid(Exception):\n",
    "    pass"
   ]
  },
  {
   "cell_type": "code",
   "execution_count": 2,
   "id": "71405393-3d39-40a4-89ad-3cdb43ac20c9",
   "metadata": {},
   "outputs": [],
   "source": [
    "def tambahMaha():\n",
    "    try:\n",
    "        nim = input(\"Masukan NIM Mahasiswa (11 digit): \")\n",
    "        if len(nim) != 11 or not nim.isdigit():\n",
    "            raise NIMTidakValid(\"NIM harus terdiri dari tepat 11 digit angka.\")\n",
    "        \n",
    "        nama = input(\"Masukan Nama Mahasiswa (min. 6 karakter): \")\n",
    "        if len(nama) < 6:\n",
    "            raise ValueError(\"Nama minimal 6 karakter.\")\n",
    "\n",
    "        alamat = input(\"Masukan Alamat Mahasiswa (min. 10 karakter): \")\n",
    "        if len(alamat) < 10:\n",
    "            raise ValueError(\"Alamat minimal 10 karakter.\")\n",
    "\n",
    "        kelas = input(\"Masukan Kelas Mahasiswa (TI23 / TI24): \").upper()\n",
    "        if kelas not in [\"TI23\", \"TI24\"]:\n",
    "            raise ValueError(\"Kelas harus 'TI23' atau 'TI24'.\")\n",
    "\n",
    "        dataList[nim] = [nama, alamat, kelas]\n",
    "        print(\"Data berhasil ditambahkan!\")\n",
    "        \n",
    "    except (NIMTidakValid,Exception,ValueError) as err:\n",
    "        print(\"Terjadi kesalahan:\", err)"
   ]
  },
  {
   "cell_type": "code",
   "execution_count": 3,
   "id": "1ddcf39c-71b4-4880-a26d-56242b8d4117",
   "metadata": {},
   "outputs": [],
   "source": [
    "def tampilMaha():\n",
    "    if not dataList:\n",
    "        print(\"Belum ada data mahasiswa.\")\n",
    "    else:\n",
    "        print(\"\\nData Mahasiswa:\")\n",
    "        for nim, info in dataList.items():\n",
    "            print(f\"NIM: {nim} | Nama: {info[0]} | Alamat: {info[1]} | Kelas: {info[2]}\")"
   ]
  },
  {
   "cell_type": "code",
   "execution_count": 4,
   "id": "ab41832a-998a-4067-abb8-aaf67ca30b6b",
   "metadata": {},
   "outputs": [
    {
     "name": "stdout",
     "output_type": "stream",
     "text": [
      "\n",
      "=== MENU MAHASISWA ===\n",
      "1. Tambah Data Mahasiswa\n",
      "2. Tampilkan Semua Mahasiswa\n",
      "3. Keluar\n"
     ]
    },
    {
     "name": "stdin",
     "output_type": "stream",
     "text": [
      "Pilih Menu (1/2/3):  1\n",
      "Masukan NIM Mahasiswa (11 digit):  20240040025\n",
      "Masukan Nama Mahasiswa (min. 6 karakter):  ALGESD\n",
      "Masukan Alamat Mahasiswa (min. 10 karakter):  CIBADAKKKK\n",
      "Masukan Kelas Mahasiswa (TI23 / TI24):  TI24\n"
     ]
    },
    {
     "name": "stdout",
     "output_type": "stream",
     "text": [
      "Data berhasil ditambahkan!\n",
      "\n",
      "=== MENU MAHASISWA ===\n",
      "1. Tambah Data Mahasiswa\n",
      "2. Tampilkan Semua Mahasiswa\n",
      "3. Keluar\n"
     ]
    },
    {
     "name": "stdin",
     "output_type": "stream",
     "text": [
      "Pilih Menu (1/2/3):  2\n"
     ]
    },
    {
     "name": "stdout",
     "output_type": "stream",
     "text": [
      "\n",
      "Data Mahasiswa:\n",
      "NIM: 20240040025 | Nama: ALGESD | Alamat: CIBADAKKKK | Kelas: TI24\n",
      "\n",
      "=== MENU MAHASISWA ===\n",
      "1. Tambah Data Mahasiswa\n",
      "2. Tampilkan Semua Mahasiswa\n",
      "3. Keluar\n"
     ]
    },
    {
     "name": "stdin",
     "output_type": "stream",
     "text": [
      "Pilih Menu (1/2/3):  3\n"
     ]
    },
    {
     "name": "stdout",
     "output_type": "stream",
     "text": [
      "Keluar dari program.\n"
     ]
    }
   ],
   "source": [
    "while True:\n",
    "    print(\"\\n=== MENU MAHASISWA ===\")\n",
    "    print(\"1. Tambah Data Mahasiswa\")\n",
    "    print(\"2. Tampilkan Semua Mahasiswa\")\n",
    "    print(\"3. Keluar\")\n",
    "\n",
    "    pilih = input(\"Pilih Menu (1/2/3): \")\n",
    "    if pilih == \"1\":\n",
    "        tambahMaha()\n",
    "    elif pilih == \"2\":\n",
    "        tampilMaha()\n",
    "    elif pilih == \"3\":\n",
    "        print(\"Keluar dari program.\")\n",
    "        break\n",
    "    else:\n",
    "        print(\"Input tidak valid.\")\n"
   ]
  },
  {
   "cell_type": "code",
   "execution_count": null,
   "id": "9592c7af-6226-43e5-8af4-07e4f4616c4f",
   "metadata": {},
   "outputs": [],
   "source": []
  }
 ],
 "metadata": {
  "kernelspec": {
   "display_name": "Python [conda env:base] *",
   "language": "python",
   "name": "conda-base-py"
  },
  "language_info": {
   "codemirror_mode": {
    "name": "ipython",
    "version": 3
   },
   "file_extension": ".py",
   "mimetype": "text/x-python",
   "name": "python",
   "nbconvert_exporter": "python",
   "pygments_lexer": "ipython3",
   "version": "3.12.7"
  }
 },
 "nbformat": 4,
 "nbformat_minor": 5
}
