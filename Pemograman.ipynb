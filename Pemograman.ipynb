{
 "cells": [
  {
   "cell_type": "code",
   "execution_count": 13,
   "id": "bfa82011-f0d3-4a6c-8c3a-011fe3f01d31",
   "metadata": {},
   "outputs": [
    {
     "name": "stdout",
     "output_type": "stream",
     "text": [
      "Hasil Penbagian 12 / 4 = 3.0\n",
      "Hasil Penbagian 20 / 4 = 5.0\n"
     ]
    }
   ],
   "source": [
    "#Budi memiliki 12 apel dan ingin membaginya dengan 4 temannya secara merata. Berapa apel yang diterima setiap teman?\n",
    "budi = 12 \n",
    "jumlah_teman = 4\n",
    "\n",
    "hasilbagi = budi / jumlah_teman\n",
    "\n",
    "print(\"Hasil Penbagian\",budi,\"/\",jumlah_teman,\"=\",hasilbagi)\n",
    "\n",
    "#Jika Budi mendapatkan tambahan 8 apel, berapa total apel yang dimilikinya sekarang?\n",
    "budi = 12 + 8\n",
    "jumlah_teman = 4\n",
    "\n",
    "hasilbagi = budi / jumlah_teman\n",
    "print(\"Hasil Penbagian\",budi,\"/\",jumlah_teman,\"=\",hasilbagi)"
   ]
  },
  {
   "cell_type": "code",
   "execution_count": 15,
   "id": "7622e169-f1e2-4629-a7cc-a98b39d443e3",
   "metadata": {},
   "outputs": [
    {
     "name": "stdout",
     "output_type": "stream",
     "text": [
      "160 == 165 False\n",
      "160 != 165 True\n",
      "160 > 165 False\n",
      "160 < 165 True\n",
      "160 >= 165 False\n"
     ]
    }
   ],
   "source": [
    "#Siti memiliki tinggi 160 cm, sedangkan Andi 165 cm. Gunakan operator perbandingan untuk mengetahui siapa yang lebih tinggi.\n",
    "siti = 160 \n",
    "Andi = 165 \n",
    "\n",
    "print(siti,\"==\",Andi,siti==Andi)\n",
    "print(siti,\"!=\",Andi,siti!=Andi)\n",
    "print(siti,\">\",Andi,siti>Andi)\n",
    "print(siti,\"<\",Andi,siti<Andi)\n",
    "print(siti,\">=\",Andi,siti>=Andi)"
   ]
  },
  {
   "cell_type": "code",
   "execution_count": 17,
   "id": "42462b35-bb5f-43a9-bed8-8d47e4cf4af9",
   "metadata": {},
   "outputs": [
    {
     "name": "stdout",
     "output_type": "stream",
     "text": [
      "apakah budi bisa bermain di luar True\n"
     ]
    }
   ],
   "source": [
    "#Budi hanya bisa bermain di luar jika cuaca cerah dan dia sudah menyelesaikan PR-nya. Gunakan operator logika untuk mengevaluasi apakah Budi bisa\n",
    "#bermain.\n",
    "\n",
    "cuacaCerah = True\n",
    "prSelesai = True\n",
    "\n",
    "bisaBermain = cuacaCerah and prSelesai\n",
    "print(\"apakah budi bisa bermain di luar\",bisaBermain)"
   ]
  },
  {
   "cell_type": "code",
   "execution_count": 19,
   "id": "38684c0c-989e-4a43-9468-649dbbe6636b",
   "metadata": {},
   "outputs": [
    {
     "name": "stdout",
     "output_type": "stream",
     "text": [
      "angka biner dari AND adalah: 0b10\n",
      "angka biner dari OR adalah: 0b111\n",
      "angka biner dari XOR adalah: 0b101\n"
     ]
    }
   ],
   "source": [
    "#Jika angka 6 direpresentasikan dalam biner sebagai 0110 dan angka 3 sebagai 0011, hitung hasil operasi AND, OR, dan XOR.\n",
    "\n",
    "num1 = 6\n",
    "num2 = 3\n",
    "\n",
    "hasilAnd = num1 & num2\n",
    "print(\"angka biner dari AND adalah:\",bin(hasilAnd))\n",
    "\n",
    "hasilOR = num1 | num2\n",
    "print(\"angka biner dari OR adalah:\",bin(hasilOR))\n",
    "\n",
    "hasilXOR = num1 ^ num2\n",
    "print(\"angka biner dari XOR adalah:\",bin(hasilXOR))"
   ]
  },
  {
   "cell_type": "code",
   "execution_count": 21,
   "id": "6fdfccf5-f9b1-4f73-a097-6226959eedc3",
   "metadata": {},
   "outputs": [
    {
     "name": "stdout",
     "output_type": "stream",
     "text": [
      "Saldo Awal 50.000= 50.0\n",
      "Kemudian ditambah dengan + 20.000= 70.0\n",
      "Selanjutnya Dikurai -30.000= 40.0\n"
     ]
    }
   ],
   "source": [
    "#Seorang siswa memiliki saldo pulsa Rp50.000, lalu dia mengisi ulang Rp20.000.\n",
    "#Setelah itu, dia membeli paket internet seharga Rp30.000. Gunakan operator\n",
    "#penugasan untuk menghitung sisa saldo pulsa.\n",
    "\n",
    "\n",
    "\n",
    "nilaiAwal = 50.000\n",
    "print(\"Saldo Awal 50.000=\",nilaiAwal)\n",
    "nilaiAwal+=20.000\n",
    "print(\"Kemudian ditambah dengan + 20.000=\",nilaiAwal)\n",
    "nilaiAwal-=30.000\n",
    "print(\"Selanjutnya Dikurai -30.000=\",nilaiAwal)"
   ]
  },
  {
   "cell_type": "code",
   "execution_count": 23,
   "id": "63be78b4-d678-48ca-b0c6-f985c946dd7b",
   "metadata": {},
   "outputs": [
    {
     "name": "stdout",
     "output_type": "stream",
     "text": [
      "apakah terdaftar? False\n",
      "apakah kata pyhton ada di kalimat True\n"
     ]
    }
   ],
   "source": [
    "#Daftar peserta lomba coding adalah [\"Andi\", \"Budi\", \"Citra\", \"Dewi\"]. Gunakan\n",
    "#operator keanggotaan untuk mengecek apakah \"Eka\" terdaftar sebagai peserta.\n",
    "\n",
    "name = \"eka\"\n",
    "daftarPesertaLomba = [\"andi\",\"budi\",\"citra\",\"dewi\"]\n",
    "hasil = name in daftarPesertaLomba\n",
    "print(\"apakah terdaftar?\",hasil)\n",
    "\n",
    "#Sebuah kalimat berbunyi \"Saya suka belajar Python\". Gunakan operator\n",
    "#keanggotaan untuk mengecek apakah kata \"Python\" ada dalam kalimat tersebut\n",
    "\n",
    "kalimat = \"saya suka belajar bahasa pyhton\"\n",
    "kataYangDiCari = \"pyhton\"\n",
    "hasil = kataYangDiCari in kalimat\n",
    "print(\"apakah kata\",kataYangDiCari,\"ada di kalimat\",hasil)"
   ]
  },
  {
   "cell_type": "code",
   "execution_count": 25,
   "id": "7141825f-014c-4c63-a4c3-111e09662926",
   "metadata": {},
   "outputs": [
    {
     "name": "stdout",
     "output_type": "stream",
     "text": [
      "apakah x dan y mangacu pada objek yang sama? True\n",
      "apakah a dan b mengacu pada objek yang sama? True\n",
      "apakah list1 dan list2 mengacu pada objek yang sama? False\n"
     ]
    }
   ],
   "source": [
    "#Jika dua variabel x dan y memiliki nilai yang sama, gunakan operator identitas\n",
    "#untuk memeriksa apakah mereka merujuk ke objek yang sama dalam memori.\n",
    "#o Buat dua list dengan isi yang sama, lalu gunakan operator identitas untuk\n",
    "#mengecek apakah kedua list tersebut mengacu ke objek yang sama.\n",
    "\n",
    "x = 54\n",
    "y = 54\n",
    "\n",
    "hasil = x is y\n",
    "print(\"apakah x dan y mangacu pada objek yang sama?\",hasil)\n",
    "\n",
    "a = \"salya\"\n",
    "b = \"salya\"\n",
    "\n",
    "hasil = a is b\n",
    "print(\"apakah a dan b mengacu pada objek yang sama?\",hasil)\n",
    "\n",
    "list1 = [\"15\",\"16\",\"17\"]\n",
    "list2 = [\"15\",\"16\",\"17\"]\n",
    "\n",
    "hasil = list1 is list2\n",
    "print(\"apakah list1 dan list2 mengacu pada objek yang sama?\",hasil)"
   ]
  },
  {
   "cell_type": "code",
   "execution_count": null,
   "id": "da789d07-b289-49c9-8203-fe117b74b586",
   "metadata": {},
   "outputs": [
    {
     "name": "stdout",
     "output_type": "stream",
     "text": [
      "Lebih besar dari 100\n",
      "Tidak Lebih besar dari 100\n"
     ]
    }
   ],
   "source": [
    "#Gunakan operator ternary untuk menentukan apakah suatu angka lebih besar\n",
    "#dari 100.\n",
    "#o Gunakan operator ternary untuk mengembalikan \"Lulus\" jika nilai ujian lebih\n",
    "#dari 70, atau \"Tidak Lulus\" jika kurang dari 70.\n",
    "\n",
    "Angka = 300\n",
    "hasil = \"Lebih besar dari 100\" if Angka > 100 else \"Tidak Lebih besar dari 100\"\n",
    "print(hasil)\n",
    "\n",
    "Angka2 = 80\n",
    "hasil2 = \"Lebih Besar dari 100\" if Angka2 > 100 else \"Tidak Lebih besar dari 100\"\n",
    "print(hasil2)\n",
    "\n",
    "Nilai_Ujian = int(input(\"isi nilai\"))\n",
    "Status = \"Lulus\" if Nilai_Ujian > 70 else \"Tidak Lulus\"\n",
    "print(Status)\n",
    "\n",
    "Nilai_Ujian2 = int(input(\"isi nilai\"))\n",
    "Status2 = \"Lulus\" if Nilai_Ujian2 > 70 else \"Tidak Lulus\"\n",
    "print(Status2)"
   ]
  },
  {
   "cell_type": "code",
   "execution_count": null,
   "id": "dcc9ae06-044a-44e3-9f7f-49fc01b7e64a",
   "metadata": {},
   "outputs": [],
   "source": []
  },
  {
   "cell_type": "markdown",
   "id": "70183d4a-9945-464d-a408-b605f9f59a96",
   "metadata": {},
   "source": []
  }
 ],
 "metadata": {
  "kernelspec": {
   "display_name": "anaconda-panel-2023.05-py310",
   "language": "python",
   "name": "conda-env-anaconda-panel-2023.05-py310-py"
  },
  "language_info": {
   "codemirror_mode": {
    "name": "ipython",
    "version": 3
   },
   "file_extension": ".py",
   "mimetype": "text/x-python",
   "name": "python",
   "nbconvert_exporter": "python",
   "pygments_lexer": "ipython3",
   "version": "3.11.5"
  }
 },
 "nbformat": 4,
 "nbformat_minor": 5
}
